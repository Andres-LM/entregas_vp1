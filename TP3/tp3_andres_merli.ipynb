{
 "cells": [
  {
   "cell_type": "markdown",
   "metadata": {},
   "source": [
    "# TP3 - VpC1\n",
    "### Andrés Merli"
   ]
  },
  {
   "cell_type": "markdown",
   "metadata": {},
   "source": [
    "Encontrar el logotipo de la gaseosa dentro de las imágenes provistas en\n",
    "Material_TPs/TP3/images a partir del template Material_TPs/TP3/template\n",
    "1. (4 puntos) Obtener una detección del logo en cada imagen sin falsos positivos\n",
    "2. (4 puntos) Plantear y validar un algoritmo para múltiples detecciones en la imagen\n",
    "coca_multi.png con el mismo témplate del item1\n",
    "3. (2 puntos) Generalizar el algoritmo del item 2 para todas las imágenes.\n",
    "Visualizar los resultados con bounding boxes en cada imagen mostrando el nivel de confianza\n",
    "de la detección."
   ]
  },
  {
   "cell_type": "code",
   "execution_count": 1,
   "metadata": {},
   "outputs": [],
   "source": [
    "#%matplotlib inline  \n",
    "\n",
    "import numpy as np\n",
    "import cv2 as cv\n",
    "import matplotlib.pyplot as plt"
   ]
  }
 ],
 "metadata": {
  "kernelspec": {
   "display_name": "Python 3.10.4 64-bit",
   "language": "python",
   "name": "python3"
  },
  "language_info": {
   "codemirror_mode": {
    "name": "ipython",
    "version": 3
   },
   "file_extension": ".py",
   "mimetype": "text/x-python",
   "name": "python",
   "nbconvert_exporter": "python",
   "pygments_lexer": "ipython3",
   "version": "3.10.4"
  },
  "orig_nbformat": 4,
  "vscode": {
   "interpreter": {
    "hash": "369f2c481f4da34e4445cda3fffd2e751bd1c4d706f27375911949ba6bb62e1c"
   }
  }
 },
 "nbformat": 4,
 "nbformat_minor": 2
}
