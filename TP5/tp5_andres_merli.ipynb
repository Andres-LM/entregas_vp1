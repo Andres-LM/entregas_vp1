{
 "cells": [
  {
   "attachments": {},
   "cell_type": "markdown",
   "metadata": {},
   "source": [
    "# TP5 - VpC1\n",
    "### Andrés Merli"
   ]
  },
  {
   "attachments": {},
   "cell_type": "markdown",
   "metadata": {},
   "source": [
    "- Implementar el detector de fondo naive usando la mediana como\n",
    "estimador. El algoritmo debe recibir el parámetro N (cantidad de\n",
    "frames utilizados para la estimación) y el intervalo de tiempo para\n",
    "recalcular el fondo.\n",
    "- Se deben generar las mascaras de foreground y aplicarlas a los frames\n",
    "para segmentar los objetos en movimiento.\n",
    "- Comparar con alguno de los métodos vistos en la practica basados en\n",
    "mezcla de gaussianas"
   ]
  },
  {
   "cell_type": "code",
   "execution_count": 175,
   "metadata": {},
   "outputs": [],
   "source": [
    "#%matplotlib inline  \n",
    "\n",
    "import numpy as np\n",
    "import cv2 as cv\n",
    "import random"
   ]
  },
  {
   "cell_type": "code",
   "execution_count": 106,
   "metadata": {},
   "outputs": [],
   "source": [
    "capture = cv.VideoCapture(filename)"
   ]
  },
  {
   "cell_type": "code",
   "execution_count": 107,
   "metadata": {},
   "outputs": [
    {
     "data": {
      "text/plain": [
       "914.0"
      ]
     },
     "execution_count": 107,
     "metadata": {},
     "output_type": "execute_result"
    }
   ],
   "source": [
    "capture.get(cv.CAP_PROP_FRAME_COUNT)"
   ]
  },
  {
   "attachments": {},
   "cell_type": "markdown",
   "metadata": {},
   "source": [
    "#### Creamos la función con la implementación del detector de fondo naive usando la mediana como estimador "
   ]
  },
  {
   "cell_type": "code",
   "execution_count": null,
   "metadata": {},
   "outputs": [],
   "source": [
    "def calculo_fondo_medianas(capture, n_frames):\n",
    "    ret, frame = capture.read()"
   ]
  },
  {
   "cell_type": "code",
   "execution_count": 127,
   "metadata": {},
   "outputs": [
    {
     "data": {
      "text/plain": [
       "-1"
      ]
     },
     "execution_count": 127,
     "metadata": {},
     "output_type": "execute_result"
    }
   ],
   "source": [
    "cv.imshow('Frame', np.median(frames_array, axis=0).astype(np.uint8))\n",
    "cv.waitKey()"
   ]
  },
  {
   "cell_type": "code",
   "execution_count": 163,
   "metadata": {},
   "outputs": [],
   "source": [
    "# Abrimos el archivo\n",
    "#-------------------\n",
    "#filename = 'vtest.avi'\n",
    "filename = 'slow_traffic_small.mp4'\n",
    "capture = cv.VideoCapture(filename)\n",
    "n_frames = 10\n",
    "frames_list = []\n",
    "\n",
    "if not capture.isOpened:\n",
    "    print('Falla al abrir el archivo: ' + filename)\n",
    "    exit(0)\n",
    "\n",
    "random_list = random.sample(range(int(capture.get(cv.CAP_PROP_FRAME_COUNT))), n_frames)\n",
    "\n",
    "\n",
    "for n in random_list:\n",
    "    capture.set(n,2)\n",
    "    ret, frame = capture.read()\n",
    "    frames_list.append(frame)\n",
    "frames_array = np.array(frames_list)\n",
    "\n",
    "background_model = np.median(frames_array, axis=0).astype(np.uint8)\n",
    "cv.imshow('Frame', background_model)\n",
    "cv.waitKey()\n",
    "\n",
    "# Corremos la sustraccion\n",
    "#------------------------\n",
    "while True:\n",
    "    # Leemos un frame\n",
    "    ret, frame = capture.read()\n",
    "    if frame is None:\n",
    "        break\n",
    "    \n",
    "    # Aplicamos la sustracción al frame leído\n",
    "    #----------------------------------------\n",
    "    foreground = frame - background_model\n",
    "    ret, fgMask = cv.threshold(foreground,120,255,cv.THRESH_BINARY)\n",
    "    \n",
    "    \n",
    "    # Escribimos sobre la imagen el número de frame procesado\n",
    "    cv.rectangle(frame, (10, 2), (100,20), (255,255,255), -1)\n",
    "    cv.putText(frame, str(capture.get(cv.CAP_PROP_POS_FRAMES)), (15, 15),\n",
    "               cv.FONT_HERSHEY_SIMPLEX, 0.5 , (0,0,0))\n",
    "    \n",
    "    # mostramos frame original e imagen binaria background/foreground\n",
    "    cv.imshow('Frame', frame)\n",
    "    cv.imshow('FG Mask', fgMask)\n",
    "    \n",
    "    # Corresmos hasta que termine o apriete escape\n",
    "    keyboard = cv.waitKey(30)\n",
    "    if keyboard == 'q' or keyboard == 27:\n",
    "        break\n",
    "\n",
    "cv.destroyAllWindows()\n",
    "capture.release()"
   ]
  },
  {
   "cell_type": "code",
   "execution_count": 43,
   "metadata": {},
   "outputs": [
    {
     "data": {
      "text/plain": [
       "'1.0'"
      ]
     },
     "execution_count": 43,
     "metadata": {},
     "output_type": "execute_result"
    }
   ],
   "source": [
    "str(capture.get(cv.CAP_PROP_POS_FRAMES))"
   ]
  },
  {
   "cell_type": "code",
   "execution_count": 189,
   "metadata": {},
   "outputs": [
    {
     "data": {
      "text/plain": [
       "-1"
      ]
     },
     "execution_count": 189,
     "metadata": {},
     "output_type": "execute_result"
    }
   ],
   "source": [
    "filename = 'slow_traffic_small.mp4'\n",
    "capture = cv.VideoCapture(filename)\n",
    "n_frames = 500\n",
    "frames_list = []\n",
    "\n",
    "if not capture.isOpened:\n",
    "    print('Falla al abrir el archivo: ' + filename)\n",
    "    exit(0)\n",
    "\n",
    "#random_list = range(n_frames)\n",
    "random_list = random.sample(range(int(capture.get(cv.CAP_PROP_FRAME_COUNT))), n_frames)\n",
    "\n",
    "\n",
    "for n in random_list:\n",
    "    if n != 42:\n",
    "        capture.set(n,2)\n",
    "        ret, frame = capture.read()\n",
    "        frame_gray = cv.cvtColor(frame, cv.COLOR_BGR2GRAY)\n",
    "        frames_list.append(frame_gray)\n",
    "\n",
    "frames_array = np.array(frames_list)\n",
    "background_model = np.median(frames_array, axis=0).astype(np.uint8)\n",
    "cv.imshow('Frame', background_model)\n",
    "cv.waitKey()"
   ]
  },
  {
   "cell_type": "code",
   "execution_count": 190,
   "metadata": {},
   "outputs": [],
   "source": [
    "ret, frame = capture.read()\n",
    "frame_gray = cv.cvtColor(frame, cv.COLOR_BGR2GRAY)"
   ]
  },
  {
   "cell_type": "code",
   "execution_count": 195,
   "metadata": {},
   "outputs": [],
   "source": [
    "foreground = (frame_gray - background_model).astype(np.uint8)"
   ]
  },
  {
   "cell_type": "code",
   "execution_count": 197,
   "metadata": {},
   "outputs": [],
   "source": [
    "ret, fgMask = cv.threshold(foreground,120,255,cv.THRESH_BINARY)"
   ]
  },
  {
   "cell_type": "code",
   "execution_count": 198,
   "metadata": {},
   "outputs": [
    {
     "data": {
      "text/plain": [
       "-1"
      ]
     },
     "execution_count": 198,
     "metadata": {},
     "output_type": "execute_result"
    }
   ],
   "source": [
    "cv.imshow('Frame', fgMask)\n",
    "cv.waitKey()"
   ]
  },
  {
   "cell_type": "code",
   "execution_count": null,
   "metadata": {},
   "outputs": [],
   "source": [
    "frame"
   ]
  },
  {
   "cell_type": "code",
   "execution_count": null,
   "metadata": {},
   "outputs": [],
   "source": [
    "time_length = 30.0\n",
    "fps=25\n",
    "frame_seq = 749\n",
    "frame_no = (frame_seq /(time_length*fps))\n",
    "\n",
    "#The first argument of cap.set(), number 2 defines that parameter for setting the frame selection.\n",
    "#Number 2 defines flag CV_CAP_PROP_POS_FRAMES which is a 0-based index of the frame to be decoded/captured next.\n",
    "#The second argument defines the frame number in range 0.0-1.0\n",
    "cap.set(2,frame_no);\n",
    "\n",
    "#Read the next frame from the video. If you set frame 749 above then the code will return the last frame.\n",
    "ret, frame = cap.read()\n",
    "\n",
    "#Set grayscale colorspace for the frame. \n",
    "gray = cv2.cvtColor(frame, cv2.COLOR_BGR2GRAY)\n",
    "\n",
    "#Cut the video extension to have the name of the video\n",
    "my_video_name = video_name.split(\".\")[0]\n",
    "\n",
    "#Display the resulting frame\n",
    "cv2.imshow(my_video_name+' frame '+ str(frame_seq),gray)\n"
   ]
  }
 ],
 "metadata": {
  "kernelspec": {
   "display_name": "Python 3",
   "language": "python",
   "name": "python3"
  },
  "language_info": {
   "codemirror_mode": {
    "name": "ipython",
    "version": 3
   },
   "file_extension": ".py",
   "mimetype": "text/x-python",
   "name": "python",
   "nbconvert_exporter": "python",
   "pygments_lexer": "ipython3",
   "version": "3.10.4"
  },
  "orig_nbformat": 4,
  "vscode": {
   "interpreter": {
    "hash": "369f2c481f4da34e4445cda3fffd2e751bd1c4d706f27375911949ba6bb62e1c"
   }
  }
 },
 "nbformat": 4,
 "nbformat_minor": 2
}
